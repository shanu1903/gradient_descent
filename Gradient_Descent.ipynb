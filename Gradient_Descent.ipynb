{
 "cells": [
  {
   "cell_type": "code",
   "execution_count": null,
   "metadata": {},
   "outputs": [],
   "source": []
  },
  {
   "cell_type": "code",
   "execution_count": 2,
   "metadata": {},
   "outputs": [],
   "source": [
    "import numpy as np\n",
    "def step_gradient(points, learning_rate, b_current, m_current):\n",
    "    m_slope = 0\n",
    "    b_slope = 0\n",
    "    N = len(points)\n",
    "    for i in range(N):\n",
    "        x = points[i, 0]\n",
    "        y = points[i, 1]\n",
    "        b_slope += -(2/N) * (y - m_current* x - b_current)\n",
    "        m_slope += -(2/N) * (y - m_current* x - b_current)*x\n",
    "    new_m = m_current - learning_rate * m_slope\n",
    "    new_b = b_current - learning_rate* b_slope\n",
    "    return (new_b, new_m)\n",
    "\n",
    "def cost_gd(b, m , points):\n",
    "    total_cost = 0\n",
    "    for i in range(len(points)):\n",
    "        x = points[i,0]\n",
    "        y = points[i,1]\n",
    "        total_cost += (y - (m*x + b))**2\n",
    "    return total_cost/len(points)\n",
    "\n",
    "def gd_runner(points, learning_rate = 0.0001, num_iterations = 1000):\n",
    "    b = 0\n",
    "    m = 0\n",
    "    print (\"Start: \", cost_gd(b, m , points))\n",
    "    for i in range(num_iterations):\n",
    "        b, m = step_gradient(points, learning_rate, b, m)\n",
    "    print (\"FINAL: \", cost_gd(b, m , points))\n",
    "    return (b, m)\n",
    "\n",
    "def run():\n",
    "    points = np.loadtxt(open(\"data.csv\",\"rb\"), delimiter=\",\")\n",
    "    learning_rate = 0.0001\n",
    "    num_iterations = 10000\n",
    "    final_b, final_m = gd_runner(points, learning_rate, num_iterations)\n",
    "    print(final_b, final_m)"
   ]
  },
  {
   "cell_type": "code",
   "execution_count": 3,
   "metadata": {},
   "outputs": [
    {
     "name": "stdout",
     "output_type": "stream",
     "text": [
      "Start:  5565.107834483211\n",
      "FINAL:  112.31533427075733\n",
      "0.6078985997054942 1.4675440436333027\n"
     ]
    }
   ],
   "source": [
    "run()"
   ]
  },
  {
   "cell_type": "code",
   "execution_count": 4,
   "metadata": {},
   "outputs": [],
   "source": [
    "points = np.loadtxt(open(\"data.csv\", \"rb\"), delimiter=\",\")\n",
    "\n"
   ]
  },
  {
   "cell_type": "code",
   "execution_count": 8,
   "metadata": {},
   "outputs": [],
   "source": [
    "import pandas as pd\n",
    "from sklearn.linear_model import LinearRegression\n",
    "clf=LinearRegression()\n",
    "\n",
    "df=pd.read_csv(\"data.csv\")\n"
   ]
  },
  {
   "cell_type": "code",
   "execution_count": 6,
   "metadata": {},
   "outputs": [],
   "source": [
    "df.columns=[\"0\",\"1\"]"
   ]
  },
  {
   "cell_type": "code",
   "execution_count": 20,
   "metadata": {},
   "outputs": [
    {
     "data": {
      "text/html": [
       "<div>\n",
       "<style scoped>\n",
       "    .dataframe tbody tr th:only-of-type {\n",
       "        vertical-align: middle;\n",
       "    }\n",
       "\n",
       "    .dataframe tbody tr th {\n",
       "        vertical-align: top;\n",
       "    }\n",
       "\n",
       "    .dataframe thead th {\n",
       "        text-align: right;\n",
       "    }\n",
       "</style>\n",
       "<table border=\"1\" class=\"dataframe\">\n",
       "  <thead>\n",
       "    <tr style=\"text-align: right;\">\n",
       "      <th></th>\n",
       "      <th>32.502345269453031</th>\n",
       "      <th>31.70700584656992</th>\n",
       "    </tr>\n",
       "  </thead>\n",
       "  <tbody>\n",
       "    <tr>\n",
       "      <th>0</th>\n",
       "      <td>53.426804</td>\n",
       "      <td>68.777596</td>\n",
       "    </tr>\n",
       "    <tr>\n",
       "      <th>1</th>\n",
       "      <td>61.530358</td>\n",
       "      <td>62.562382</td>\n",
       "    </tr>\n",
       "    <tr>\n",
       "      <th>2</th>\n",
       "      <td>47.475640</td>\n",
       "      <td>71.546632</td>\n",
       "    </tr>\n",
       "    <tr>\n",
       "      <th>3</th>\n",
       "      <td>59.813208</td>\n",
       "      <td>87.230925</td>\n",
       "    </tr>\n",
       "    <tr>\n",
       "      <th>4</th>\n",
       "      <td>55.142188</td>\n",
       "      <td>78.211518</td>\n",
       "    </tr>\n",
       "  </tbody>\n",
       "</table>\n",
       "</div>"
      ],
      "text/plain": [
       "   32.502345269453031  31.70700584656992\n",
       "0           53.426804          68.777596\n",
       "1           61.530358          62.562382\n",
       "2           47.475640          71.546632\n",
       "3           59.813208          87.230925\n",
       "4           55.142188          78.211518"
      ]
     },
     "execution_count": 20,
     "metadata": {},
     "output_type": "execute_result"
    }
   ],
   "source": [
    "df.head()"
   ]
  },
  {
   "cell_type": "code",
   "execution_count": 18,
   "metadata": {
    "scrolled": true
   },
   "outputs": [
    {
     "name": "stderr",
     "output_type": "stream",
     "text": [
      "/home/shailesh/anaconda3/lib/python3.6/site-packages/ipykernel_launcher.py:4: FutureWarning: reshape is deprecated and will raise in a subsequent release. Please use .values.reshape(...) instead\n",
      "  after removing the cwd from sys.path.\n",
      "/home/shailesh/anaconda3/lib/python3.6/site-packages/ipykernel_launcher.py:5: FutureWarning: reshape is deprecated and will raise in a subsequent release. Please use .values.reshape(...) instead\n",
      "  \"\"\"\n",
      "/home/shailesh/anaconda3/lib/python3.6/site-packages/ipykernel_launcher.py:6: FutureWarning: reshape is deprecated and will raise in a subsequent release. Please use .values.reshape(...) instead\n",
      "  \n",
      "/home/shailesh/anaconda3/lib/python3.6/site-packages/ipykernel_launcher.py:7: FutureWarning: reshape is deprecated and will raise in a subsequent release. Please use .values.reshape(...) instead\n",
      "  import sys\n"
     ]
    },
    {
     "data": {
      "text/plain": [
       "LinearRegression(copy_X=True, fit_intercept=True, n_jobs=1, normalize=False)"
      ]
     },
     "execution_count": 18,
     "metadata": {},
     "output_type": "execute_result"
    }
   ],
   "source": [
    "import numpy as np\n",
    "from sklearn import cross_validation as cv\n",
    "x_train,x_test,y_train,y_test=cv.train_test_split(df.iloc[:,0],df.iloc[:,1],test_size=0.2)\n",
    "x_train=x_train.reshape(-1, 1)\n",
    "y_train=y_train.reshape(-1, 1)\n",
    "x_test=x_test.reshape(-1, 1)\n",
    "y_test=y_test.reshape(-1, 1)\n",
    "clf.fit(x_train,y_train)"
   ]
  },
  {
   "cell_type": "code",
   "execution_count": 21,
   "metadata": {},
   "outputs": [
    {
     "data": {
      "text/plain": [
       "0.5897567578521599"
      ]
     },
     "execution_count": 21,
     "metadata": {},
     "output_type": "execute_result"
    }
   ],
   "source": [
    "clf.score(x_test,y_test)"
   ]
  },
  {
   "cell_type": "code",
   "execution_count": 22,
   "metadata": {},
   "outputs": [
    {
     "name": "stdout",
     "output_type": "stream",
     "text": [
      "[7.85261688]\n",
      "[[1.31360764]]\n"
     ]
    }
   ],
   "source": [
    "print(clf.intercept_)\n",
    "print(clf.coef_)"
   ]
  },
  {
   "cell_type": "code",
   "execution_count": 23,
   "metadata": {},
   "outputs": [],
   "source": [
    " import matplotlib.pyplot as plt\n",
    "def costVsIter(l,itera):\n",
    "    learning_rate =l\n",
    "    num_iterations =itera\n",
    "    x=[]\n",
    "    z=[]\n",
    "    b,m=0,0\n",
    "    count=0\n",
    "    for i in range(num_iterations):\n",
    "        b,m=step_gradient(points,learning_rate,b,m)\n",
    "        x.append(i)\n",
    "        z.append(cost_gd(b,m,points))\n",
    "        count+=1\n",
    "        if(count==20):\n",
    "            plt.plot()\n",
    "   \n",
    "    plt.plot(x,z)\n",
    "    plt.show()"
   ]
  },
  {
   "cell_type": "code",
   "execution_count": 24,
   "metadata": {},
   "outputs": [
    {
     "data": {
      "image/png": "[encoded data removed]",
      "text/plain": [
       "<matplotlib.figure.Figure at 0x7fe227411fd0>"
      ]
     },
     "metadata": {},
     "output_type": "display_data"
    },
    {
     "data": {
      "image/png": "[encoded data removed]",
      "text/plain": [
       "<matplotlib.figure.Figure at 0x7fe21dff45f8>"
      ]
     },
     "metadata": {},
     "output_type": "display_data"
    },
    {
     "data": {
      "image/png": "[encoded data removed]",
      "text/plain": [
       "<matplotlib.figure.Figure at 0x7fe21dff4710>"
      ]
     },
     "metadata": {},
     "output_type": "display_data"
    }
   ],
   "source": [
    "costVsIter(0.0001,100)\n",
    "costVsIter(0.00001,100)\n",
    "costVsIter(0.000001,100)"
   ]
  },
  {
   "cell_type": "markdown",
   "metadata": {
    "collapsed": true
   },
   "source": [
    "x=[]\n",
    "z=[]\n",
    "b,m=0,0\n",
    "for i in range(100):\n",
    "    b,m=step_gradient(points,0.0001,b,m)\n",
    "    x.append(i)\n",
    "    z.append(cost_gd(b,m,points))\n",
    "count=0\n",
    "start=0\n",
    "for i in range(len(x)):\n",
    "        count=count+1\n",
    "        if(count==5):\n",
    "            plt.plot(x[start:i],z[start:i])\n",
    "            plt.show()\n",
    "            count=0\n",
    "            start=i"
   ]
  },
  {
   "cell_type": "code",
   "execution_count": 26,
   "metadata": {},
   "outputs": [],
   "source": [
    "\n",
    "def printpoints(learning_rate,num_iterations):\n",
    "    x=[0,80]\n",
    "    y=[0,0]\n",
    "    count=0\n",
    "    b=0\n",
    "    m=0\n",
    "    for i in range(num_iterations):\n",
    "        b,m=step_gradient(points,learning_rate,b,m)\n",
    "        y[0]=m*x[0]+b\n",
    "        y[1]=m*x[1]+b\n",
    "        count+=1\n",
    "        if(count==1):\n",
    "            print(x,y)\n",
    "            plt.plot(x,y)\n",
    "            count=0\n",
    "    plt.scatter(points[:,0:1],points[:,1:2])\n",
    "    plt.show()\n",
    "\n",
    "    \n",
    "    "
   ]
  },
  {
   "cell_type": "code",
   "execution_count": 27,
   "metadata": {},
   "outputs": [
    {
     "name": "stdout",
     "output_type": "stream",
     "text": [
      "[0, 80] [0.014547010110737297, 58.98017079883917]\n",
      "[0, 80] [0.02187396295959641, 88.56551031108086]\n",
      "[0, 80] [0.025579224321293136, 103.4059524173702]\n",
      "[0, 80] [0.027467789559144355, 110.85012824165875]\n",
      "[0, 80] [0.028445071981738963, 114.58422366272738]\n",
      "[0, 80] [0.028965240766478616, 116.45728595260975]\n",
      "[0, 80] [0.029256114126046697, 117.39682553173688]\n",
      "[0, 80] [0.029431969163807123, 117.8680958271139]\n",
      "[0, 80] [0.029550129024383066, 118.10447508072266]\n",
      "[0, 80] [0.029639347874732384, 118.22302939174513]\n"
     ]
    },
    {
     "data": {
      "image/png": "[encoded data removed]",
      "text/plain": [
       "<matplotlib.figure.Figure at 0x7fe21deb2d30>"
      ]
     },
     "metadata": {},
     "output_type": "display_data"
    }
   ],
   "source": [
    "printpoints(0.0001,10)"
   ]
  },
  {
   "cell_type": "code",
   "execution_count": null,
   "metadata": {
    "collapsed": true
   },
   "outputs": [],
   "source": []
  }
 ],
 "metadata": {
  "anaconda-cloud": {},
  "kernelspec": {
   "display_name": "Python 3",
   "language": "python",
   "name": "python3"
  },
  "language_info": {
   "codemirror_mode": {
    "name": "ipython",
    "version": 3
   },
   "file_extension": ".py",
   "mimetype": "text/x-python",
   "name": "python",
   "nbconvert_exporter": "python",
   "pygments_lexer": "ipython3",
   "version": "3.6.4"
  }
 },
 "nbformat": 4,
 "nbformat_minor": 1
}
